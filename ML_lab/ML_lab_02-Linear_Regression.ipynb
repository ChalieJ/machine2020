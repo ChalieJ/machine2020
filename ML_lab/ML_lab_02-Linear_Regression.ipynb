{
 "cells": [
  {
   "cell_type": "markdown",
   "metadata": {},
   "source": [
    "### 학생의 공부시간과 획득 점수를 예측해본다\n",
    "\n",
    "x = 공부시간\n",
    "y = 0 ~ 100점 사이 \n",
    "\n",
    "regression\n",
    "\n",
    "|x(hours)| y(score)|\n",
    "|--------|---------|\n",
    "|10|90|\n",
    "|9|80|\n",
    "|3|50|\n",
    "|2|30|\n",
    "\n",
    "위의 데이터를 가지고, 모델을 만들고 학습을 하고, \\\n",
    "새로운데이터(7시간 공부한 학생)의 스코어(점수)를 예측한다.\n",
    "\n",
    "|x|y|\n",
    "|-|-|\n",
    "|1|1|\n",
    "|2|2|\n",
    "|3|3|"
   ]
  },
  {
   "cell_type": "code",
   "execution_count": 5,
   "metadata": {},
   "outputs": [
    {
     "data": {
      "image/png": "[encoded data removed]",
      "text/plain": [
       "<Figure size 432x288 with 1 Axes>"
      ]
     },
     "metadata": {
      "needs_background": "light"
     },
     "output_type": "display_data"
    }
   ],
   "source": [
    "from matplotlib import pyplot as plt\n",
    "\n",
    "x = [1, 2, 3]\n",
    "y = [1, 2, 3]\n",
    "\n",
    "plt.plot(x, y, 'o')\n",
    "plt.xlim(0, 4)\n",
    "plt.ylim(0, 4)\n",
    "plt.xlabel(\"x\")\n",
    "plt.ylabel(\"y\")\n",
    "\n",
    "plt.show()"
   ]
  },
  {
   "cell_type": "markdown",
   "metadata": {},
   "source": [
    "# Linear Hypothesis\n",
    "\n",
    "H(x) = Wx + b\n",
    "일차방정식으로 가설을 세운다.\n",
    "\n",
    "위의 경우 H(x) = 1 * 1 + 0 으로 나옴\n",
    "\n",
    "일차방정식과 실제데이터간의 거리가 가까울수록 W와 B값이 좋은 값이다.\n",
    "우리가 세운 가설과 실제데이터가 얼마나 다른지 확인 - cost function 혹은 loss function\n",
    "\n",
    "제곱을 많이 해준다. 차이를 모두 양수로 변환할 수 있어 장점\n",
    "\n",
    "코스트 펑션 : 각 좌표의 값을 코스트 펑션에 넣어 각 좌표의 갯수로 나누어 평균을 내준다.\n",
    "\n",
    "\n",
    "W와 b를 최소화하는! minimized cost"
   ]
  }
 ],
 "metadata": {
  "kernelspec": {
   "display_name": "Python 3",
   "language": "python",
   "name": "python3"
  },
  "language_info": {
   "codemirror_mode": {
    "name": "ipython",
    "version": 3
   },
   "file_extension": ".py",
   "mimetype": "text/x-python",
   "name": "python",
   "nbconvert_exporter": "python",
   "pygments_lexer": "ipython3",
   "version": "3.7.6"
  }
 },
 "nbformat": 4,
 "nbformat_minor": 4
}
